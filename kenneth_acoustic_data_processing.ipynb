{
 "cells": [
  {
   "cell_type": "markdown",
   "metadata": {},
   "source": [
    "Загрузка видео и формирование обучающей выборки для видео с канала Kenneth Acoustic"
   ]
  },
  {
   "cell_type": "markdown",
   "metadata": {},
   "source": [
    "# Загрузка библиотек"
   ]
  },
  {
   "cell_type": "code",
   "execution_count": 1,
   "metadata": {},
   "outputs": [],
   "source": [
    "import os\n",
    "from pathlib import Path\n",
    "from pytube import YouTube\n",
    "import cv2\n",
    "from PIL import Image\n",
    "import matplotlib.pyplot as plt\n",
    "import hashlib\n",
    "import imagehash\n",
    "from tqdm import tqdm\n",
    "from PIL import ImageOps\n",
    "import numpy as np\n",
    "import pandas as pd\n",
    "import shutil"
   ]
  },
  {
   "cell_type": "markdown",
   "metadata": {},
   "source": [
    "# Загрузка видео"
   ]
  },
  {
   "cell_type": "code",
   "execution_count": 2,
   "metadata": {},
   "outputs": [
    {
     "data": {
      "text/plain": [
       "'c:\\\\projects\\\\note_stealer\\\\note_stealer\\\\videos\\\\kenneth_acoustic_sample.mp4'"
      ]
     },
     "execution_count": 2,
     "metadata": {},
     "output_type": "execute_result"
    }
   ],
   "source": [
    "url = 'https://www.youtube.com/watch?v=HZeokad4Nlw'\n",
    "filename_video = 'kenneth_acoustic_sample.mp4'\n",
    "yt = YouTube(url)\n",
    "video_path = Path('videos')\n",
    "if not os.path.exists: os.makedirs(video_path)\n",
    "# progressive - True (delete)\n",
    "yt.streams.filter(progressive=True, file_extension='mp4').order_by(\n",
    "        'resolution').desc().first().download(output_path=video_path, filename=filename_video)"
   ]
  },
  {
   "cell_type": "markdown",
   "metadata": {},
   "source": [
    "# Покадровое считывание видео и запись в файл"
   ]
  },
  {
   "cell_type": "code",
   "execution_count": 3,
   "metadata": {},
   "outputs": [],
   "source": [
    "path_images = Path('images/kenneth_acoustic')\n",
    "if not os.path.exists(path_images): os.makedirs(path_images)\n",
    "vidcap = cv2.VideoCapture(str(video_path / filename_video))\n",
    "success,image = vidcap.read()\n",
    "count = 0\n",
    "while success:\n",
    "    cv2.imwrite(str(path_images / (\"frame%d.jpg\" % count)), image)     # save frame as JPEG file      \n",
    "    success, image = vidcap.read()\n",
    "    count += 1"
   ]
  },
  {
   "cell_type": "code",
   "execution_count": 4,
   "metadata": {},
   "outputs": [],
   "source": [
    "notes_start_frame = 13\n",
    "notes_end_frame = 5164"
   ]
  },
  {
   "cell_type": "code",
   "execution_count": 5,
   "metadata": {},
   "outputs": [
    {
     "name": "stdout",
     "output_type": "stream",
     "text": [
      "0   520\n",
      "1100   719\n"
     ]
    }
   ],
   "source": [
    "# reading the image \n",
    "img = cv2.imread(str(path_images / f'frame{notes_start_frame}.jpg'), 1) \n",
    "\n",
    "# function to display the coordinates of \n",
    "# of the points clicked on the image  \n",
    "def click_event(event, x, y, flags, params): \n",
    "    # checking for left mouse clicks \n",
    "    if event == cv2.EVENT_LBUTTONDOWN: \n",
    "        # displaying the coordinates \n",
    "        # on the Shell \n",
    "        print(x, ' ', y) \n",
    "        # displaying the coordinates \n",
    "        # on the image window \n",
    "        font = cv2.FONT_HERSHEY_SIMPLEX \n",
    "        cv2.putText(img, str(x) + ',' +\n",
    "                    str(y), (x,y), font, \n",
    "                    1, (255, 0, 0), 2) \n",
    "        cv2.imshow('image', img) \n",
    "    # checking for right mouse clicks      \n",
    "    if event==cv2.EVENT_RBUTTONDOWN: \n",
    "        # displaying the coordinates \n",
    "        # on the Shell \n",
    "        print(x, ' ', y) \n",
    "        # displaying the coordinates \n",
    "        # on the image window \n",
    "        font = cv2.FONT_HERSHEY_SIMPLEX \n",
    "        b = img[y, x, 0] \n",
    "        g = img[y, x, 1] \n",
    "        r = img[y, x, 2] \n",
    "        cv2.putText(img, str(b) + ',' +\n",
    "                    str(g) + ',' + str(r), \n",
    "                    (x,y), font, 1, \n",
    "                    (255, 255, 0), 2) \n",
    "        cv2.imshow('image', img) \n",
    "\n",
    "\n",
    "# displaying the image \n",
    "cv2.imshow('image', img) \n",
    "# setting mouse handler for the image \n",
    "# and calling the click_event() function \n",
    "cv2.setMouseCallback('image', click_event) \n",
    "# wait for a key to be pressed to exit \n",
    "cv2.waitKey(0) \n",
    "# close the window \n",
    "cv2.destroyAllWindows() "
   ]
  },
  {
   "cell_type": "code",
   "execution_count": 11,
   "metadata": {},
   "outputs": [],
   "source": [
    "x1, y1, x2, y2 = 0, 520, 1100, 720"
   ]
  },
  {
   "cell_type": "markdown",
   "metadata": {},
   "source": [
    "# Определение порога для отсечения дубликатов"
   ]
  },
  {
   "cell_type": "code",
   "execution_count": 7,
   "metadata": {},
   "outputs": [],
   "source": [
    "def phash(image: Image.Image, hash_size: int=8) -> str:\n",
    "    return str(\n",
    "        hashlib.sha256(\n",
    "            bytearray(\n",
    "                imagehash.phash(\n",
    "                    image, hash_size=hash_size\n",
    "                ).hash.flatten().astype(int).tolist())\n",
    "            ).hexdigest())"
   ]
  },
  {
   "cell_type": "code",
   "execution_count": 9,
   "metadata": {},
   "outputs": [],
   "source": [
    "df_hash = pd.DataFrame({\n",
    "    'filename': [path_images / x for x in os.listdir(path_images)]\n",
    "})"
   ]
  },
  {
   "cell_type": "code",
   "execution_count": 12,
   "metadata": {},
   "outputs": [
    {
     "name": "stderr",
     "output_type": "stream",
     "text": [
      " 40%|████      | 6/15 [03:53<05:49, 38.83s/it]\n"
     ]
    },
    {
     "ename": "KeyboardInterrupt",
     "evalue": "",
     "output_type": "error",
     "traceback": [
      "\u001b[1;31m---------------------------------------------------------------------------\u001b[0m",
      "\u001b[1;31mKeyboardInterrupt\u001b[0m                         Traceback (most recent call last)",
      "Cell \u001b[1;32mIn[12], line 5\u001b[0m\n\u001b[0;32m      3\u001b[0m phashes \u001b[38;5;241m=\u001b[39m []\n\u001b[0;32m      4\u001b[0m \u001b[38;5;28;01mfor\u001b[39;00m filename \u001b[38;5;129;01min\u001b[39;00m df_hash[\u001b[38;5;124m'\u001b[39m\u001b[38;5;124mfilename\u001b[39m\u001b[38;5;124m'\u001b[39m]:\n\u001b[1;32m----> 5\u001b[0m     img \u001b[38;5;241m=\u001b[39m \u001b[43mImage\u001b[49m\u001b[38;5;241;43m.\u001b[39;49m\u001b[43mopen\u001b[49m\u001b[43m(\u001b[49m\u001b[43mfilename\u001b[49m\u001b[43m)\u001b[49m\u001b[38;5;241;43m.\u001b[39;49m\u001b[43mcrop\u001b[49m\u001b[43m(\u001b[49m\u001b[43m(\u001b[49m\u001b[43mx1\u001b[49m\u001b[43m,\u001b[49m\u001b[43m \u001b[49m\u001b[43my1\u001b[49m\u001b[43m,\u001b[49m\u001b[43m \u001b[49m\u001b[43mx2\u001b[49m\u001b[43m,\u001b[49m\u001b[43m \u001b[49m\u001b[43my2\u001b[49m\u001b[43m)\u001b[49m\u001b[43m)\u001b[49m\n\u001b[0;32m      6\u001b[0m     img \u001b[38;5;241m=\u001b[39m ImageOps\u001b[38;5;241m.\u001b[39mgrayscale(img)\n\u001b[0;32m      7\u001b[0m     phashes\u001b[38;5;241m.\u001b[39mappend(phash(img, i))\n",
      "File \u001b[1;32m~\\AppData\\Local\\Packages\\PythonSoftwareFoundation.Python.3.11_qbz5n2kfra8p0\\LocalCache\\local-packages\\Python311\\site-packages\\PIL\\Image.py:1211\u001b[0m, in \u001b[0;36mImage.crop\u001b[1;34m(self, box)\u001b[0m\n\u001b[0;32m   1208\u001b[0m \u001b[38;5;28;01melif\u001b[39;00m box[\u001b[38;5;241m3\u001b[39m] \u001b[38;5;241m<\u001b[39m box[\u001b[38;5;241m1\u001b[39m]:\n\u001b[0;32m   1209\u001b[0m     \u001b[38;5;28;01mraise\u001b[39;00m \u001b[38;5;167;01mValueError\u001b[39;00m(\u001b[38;5;124m\"\u001b[39m\u001b[38;5;124mCoordinate \u001b[39m\u001b[38;5;124m'\u001b[39m\u001b[38;5;124mlower\u001b[39m\u001b[38;5;124m'\u001b[39m\u001b[38;5;124m is less than \u001b[39m\u001b[38;5;124m'\u001b[39m\u001b[38;5;124mupper\u001b[39m\u001b[38;5;124m'\u001b[39m\u001b[38;5;124m\"\u001b[39m)\n\u001b[1;32m-> 1211\u001b[0m \u001b[38;5;28;43mself\u001b[39;49m\u001b[38;5;241;43m.\u001b[39;49m\u001b[43mload\u001b[49m\u001b[43m(\u001b[49m\u001b[43m)\u001b[49m\n\u001b[0;32m   1212\u001b[0m \u001b[38;5;28;01mreturn\u001b[39;00m \u001b[38;5;28mself\u001b[39m\u001b[38;5;241m.\u001b[39m_new(\u001b[38;5;28mself\u001b[39m\u001b[38;5;241m.\u001b[39m_crop(\u001b[38;5;28mself\u001b[39m\u001b[38;5;241m.\u001b[39mim, box))\n",
      "File \u001b[1;32m~\\AppData\\Local\\Packages\\PythonSoftwareFoundation.Python.3.11_qbz5n2kfra8p0\\LocalCache\\local-packages\\Python311\\site-packages\\PIL\\ImageFile.py:260\u001b[0m, in \u001b[0;36mImageFile.load\u001b[1;34m(self)\u001b[0m\n\u001b[0;32m    254\u001b[0m         \u001b[38;5;28;01mraise\u001b[39;00m \u001b[38;5;167;01mOSError\u001b[39;00m(\n\u001b[0;32m    255\u001b[0m             \u001b[38;5;124m\"\u001b[39m\u001b[38;5;124mimage file is truncated \u001b[39m\u001b[38;5;124m\"\u001b[39m\n\u001b[0;32m    256\u001b[0m             \u001b[38;5;124mf\u001b[39m\u001b[38;5;124m\"\u001b[39m\u001b[38;5;124m(\u001b[39m\u001b[38;5;132;01m{\u001b[39;00m\u001b[38;5;28mlen\u001b[39m(b)\u001b[38;5;132;01m}\u001b[39;00m\u001b[38;5;124m bytes not processed)\u001b[39m\u001b[38;5;124m\"\u001b[39m\n\u001b[0;32m    257\u001b[0m         )\n\u001b[0;32m    259\u001b[0m b \u001b[38;5;241m=\u001b[39m b \u001b[38;5;241m+\u001b[39m s\n\u001b[1;32m--> 260\u001b[0m n, err_code \u001b[38;5;241m=\u001b[39m \u001b[43mdecoder\u001b[49m\u001b[38;5;241;43m.\u001b[39;49m\u001b[43mdecode\u001b[49m\u001b[43m(\u001b[49m\u001b[43mb\u001b[49m\u001b[43m)\u001b[49m\n\u001b[0;32m    261\u001b[0m \u001b[38;5;28;01mif\u001b[39;00m n \u001b[38;5;241m<\u001b[39m \u001b[38;5;241m0\u001b[39m:\n\u001b[0;32m    262\u001b[0m     \u001b[38;5;28;01mbreak\u001b[39;00m\n",
      "\u001b[1;31mKeyboardInterrupt\u001b[0m: "
     ]
    }
   ],
   "source": [
    "nuniques = []\n",
    "for i in tqdm(range(2, 17)):\n",
    "    phashes = []\n",
    "    for filename in df_hash['filename']:\n",
    "        img = Image.open(filename).crop((x1, y1, x2, y2))\n",
    "        img = ImageOps.grayscale(img)\n",
    "        phashes.append(phash(img, i))\n",
    "    df_hash['hash'] = phashes\n",
    "    nuniques.append(df_hash['hash'].nunique())"
   ]
  },
  {
   "cell_type": "code",
   "execution_count": 13,
   "metadata": {},
   "outputs": [
    {
     "data": {
      "text/plain": [
       "[2, 7, 191, 420, 524, 630]"
      ]
     },
     "execution_count": 13,
     "metadata": {},
     "output_type": "execute_result"
    }
   ],
   "source": [
    "nuniques"
   ]
  },
  {
   "cell_type": "code",
   "execution_count": 14,
   "metadata": {},
   "outputs": [
    {
     "data": {
      "image/png": "[encoded data removed]",
      "text/plain": [
       "<Figure size 640x480 with 1 Axes>"
      ]
     },
     "metadata": {},
     "output_type": "display_data"
    }
   ],
   "source": [
    "plt.plot(range(2, 2+len(nuniques)), nuniques, '-o')\n",
    "plt.grid()\n",
    "plt.ylabel('nunique')\n",
    "plt.xlabel('hashsize, X')\n",
    "plt.title('SHA 256 with X hashsize')\n",
    "plt.show()"
   ]
  },
  {
   "cell_type": "code",
   "execution_count": 16,
   "metadata": {},
   "outputs": [
    {
     "name": "stderr",
     "output_type": "stream",
     "text": [
      "100%|██████████| 5346/5346 [00:29<00:00, 181.26it/s]\n"
     ]
    }
   ],
   "source": [
    "i = 4\n",
    "phashes = []\n",
    "for filename in tqdm(df_hash['filename']):\n",
    "    img = Image.open(filename).crop((x1, y1, x2, y2))\n",
    "    img = ImageOps.grayscale(img)\n",
    "    phashes.append(phash(img, i))\n",
    "df_hash['hash'] = phashes"
   ]
  },
  {
   "cell_type": "markdown",
   "metadata": {},
   "source": [
    "# Формирирование обучающей выборки"
   ]
  },
  {
   "cell_type": "code",
   "execution_count": 17,
   "metadata": {},
   "outputs": [],
   "source": [
    "path_yolo_data = Path('yolo_data')\n",
    "if not os.path.exists(path_yolo_data): os.makedirs(path_yolo_data)\n",
    "path_kenneth_data = path_yolo_data / 'kenneth'\n",
    "if not os.path.exists(path_kenneth_data): os.makedirs(path_kenneth_data)\n",
    "path_kenneth_images = path_kenneth_data / 'images'\n",
    "if not os.path.exists(path_kenneth_images): os.makedirs(path_kenneth_images)\n",
    "path_kenneth_labels = path_kenneth_data / 'labels'\n",
    "if not os.path.exists(path_kenneth_labels): os.makedirs(path_kenneth_labels)"
   ]
  },
  {
   "cell_type": "code",
   "execution_count": 18,
   "metadata": {},
   "outputs": [],
   "source": [
    "def open_img(filename):\n",
    "    img = Image.open(filename).crop((x1, y1, x2, y2))\n",
    "    img = ImageOps.grayscale(img)\n",
    "    return img"
   ]
  },
  {
   "cell_type": "code",
   "execution_count": null,
   "metadata": {},
   "outputs": [],
   "source": [
    "filenames = [str(path_images / x) for x in os.listdir(path_images)]\n",
    "df_hash = pd.DataFrame({'filename': filenames})\n",
    "hash_f = lambda x: phash(open_img(x), 4)\n",
    "vect_hash_f = np.vectorize(hash_f)\n",
    "hashes = vect_hash_f(df_hash['filename'])\n",
    "df_hash['hash'] = hashes"
   ]
  },
  {
   "cell_type": "code",
   "execution_count": 20,
   "metadata": {},
   "outputs": [
    {
     "name": "stderr",
     "output_type": "stream",
     "text": [
      "C:\\Users\\Dm\\AppData\\Local\\Temp\\ipykernel_15784\\2598030730.py:2: SettingWithCopyWarning: \n",
      "A value is trying to be set on a copy of a slice from a DataFrame.\n",
      "Try using .loc[row_indexer,col_indexer] = value instead\n",
      "\n",
      "See the caveats in the documentation: https://pandas.pydata.org/pandas-docs/stable/user_guide/indexing.html#returning-a-view-versus-a-copy\n",
      "  df_nodupl['index'] = df_nodupl['filename'].apply(\n",
      "C:\\Users\\Dm\\AppData\\Local\\Temp\\ipykernel_15784\\2598030730.py:4: SettingWithCopyWarning: \n",
      "A value is trying to be set on a copy of a slice from a DataFrame\n",
      "\n",
      "See the caveats in the documentation: https://pandas.pydata.org/pandas-docs/stable/user_guide/indexing.html#returning-a-view-versus-a-copy\n",
      "  df_nodupl.sort_values(by='index', inplace=True)\n"
     ]
    }
   ],
   "source": [
    "df_nodupl = df_hash.drop_duplicates('hash', keep='first')\n",
    "df_nodupl['index'] = df_nodupl['filename'].apply(\n",
    "    lambda x: str(x).split('.')[0].replace(r'images\\kenneth_acoustic\\frame', '')).astype(int)\n",
    "df_nodupl.sort_values(by='index', inplace=True)"
   ]
  },
  {
   "cell_type": "code",
   "execution_count": 22,
   "metadata": {},
   "outputs": [
    {
     "data": {
      "text/plain": [
       "(190, 3)"
      ]
     },
     "execution_count": 22,
     "metadata": {},
     "output_type": "execute_result"
    }
   ],
   "source": [
    "# ноты\n",
    "df_notes = df_nodupl.loc[\n",
    "    (df_nodupl['index']>=notes_start_frame) &\n",
    "    (df_nodupl['index']<=notes_end_frame)\n",
    "]\n",
    "df_notes.shape"
   ]
  },
  {
   "cell_type": "code",
   "execution_count": 25,
   "metadata": {},
   "outputs": [
    {
     "name": "stderr",
     "output_type": "stream",
     "text": [
      "C:\\Users\\Dm\\AppData\\Local\\Temp\\ipykernel_15784\\1676882024.py:1: SettingWithCopyWarning: \n",
      "A value is trying to be set on a copy of a slice from a DataFrame.\n",
      "Try using .loc[row_indexer,col_indexer] = value instead\n",
      "\n",
      "See the caveats in the documentation: https://pandas.pydata.org/pandas-docs/stable/user_guide/indexing.html#returning-a-view-versus-a-copy\n",
      "  df_notes['short_filename'] = df_notes['filename'].apply(lambda x: str(x).split(\"\\\\\")[-1].replace('.jpg', ''))\n"
     ]
    }
   ],
   "source": [
    "df_notes['short_filename'] = df_notes['filename'].apply(lambda x: str(x).split(\"\\\\\")[-1].replace('.jpg', ''))"
   ]
  },
  {
   "cell_type": "code",
   "execution_count": 30,
   "metadata": {},
   "outputs": [],
   "source": [
    "img = Image.open(df_notes['filename'].iloc[0])\n",
    "w, h = img.size"
   ]
  },
  {
   "cell_type": "code",
   "execution_count": 31,
   "metadata": {},
   "outputs": [],
   "source": [
    "x_yolo = ((x2+x1) / 2) / w\n",
    "y_yolo = ((y2+y1) / 2) / h\n",
    "w_yolo = (x2-x1) / w\n",
    "h_yolo = (y2-y1) / h"
   ]
  },
  {
   "cell_type": "code",
   "execution_count": 32,
   "metadata": {},
   "outputs": [],
   "source": [
    "str_yolo = ' '.join([str(x) for x in [0, x_yolo, y_yolo, w_yolo, h_yolo]])"
   ]
  },
  {
   "cell_type": "code",
   "execution_count": 33,
   "metadata": {},
   "outputs": [
    {
     "name": "stderr",
     "output_type": "stream",
     "text": [
      "190it [00:00, 1298.75it/s]\n"
     ]
    }
   ],
   "source": [
    "for row in tqdm(df_notes.iterrows()):\n",
    "    row = row[1]\n",
    "    filename = row['filename']\n",
    "    short_filename = row['short_filename']\n",
    "    shutil.copy(filename, path_kenneth_images)\n",
    "    with open(path_kenneth_labels / (short_filename + '.txt'), 'w') as file:\n",
    "        file.write(str_yolo)"
   ]
  }
 ],
 "metadata": {
  "kernelspec": {
   "display_name": "Python 3",
   "language": "python",
   "name": "python3"
  },
  "language_info": {
   "codemirror_mode": {
    "name": "ipython",
    "version": 3
   },
   "file_extension": ".py",
   "mimetype": "text/x-python",
   "name": "python",
   "nbconvert_exporter": "python",
   "pygments_lexer": "ipython3",
   "version": "3.11.7"
  }
 },
 "nbformat": 4,
 "nbformat_minor": 2
}
