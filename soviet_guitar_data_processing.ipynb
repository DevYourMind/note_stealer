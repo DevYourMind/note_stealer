{
 "cells": [
  {
   "cell_type": "markdown",
   "metadata": {},
   "source": [
    "Загрузка видео и формирование обучающей выборки для видео с канала Soviet Guitar"
   ]
  },
  {
   "cell_type": "markdown",
   "metadata": {},
   "source": [
    "# Загрузка библиотек"
   ]
  },
  {
   "cell_type": "code",
   "execution_count": 1,
   "metadata": {},
   "outputs": [],
   "source": [
    "import os\n",
    "from pathlib import Path\n",
    "from pytube import YouTube\n",
    "import cv2\n",
    "from PIL import Image\n",
    "import matplotlib.pyplot as plt\n",
    "import hashlib\n",
    "import imagehash\n",
    "from tqdm import tqdm\n",
    "from PIL import ImageOps\n",
    "import numpy as np\n",
    "import pandas as pd\n",
    "import shutil"
   ]
  },
  {
   "cell_type": "markdown",
   "metadata": {},
   "source": [
    "# Загрузка видео"
   ]
  },
  {
   "cell_type": "code",
   "execution_count": 2,
   "metadata": {},
   "outputs": [
    {
     "data": {
      "text/plain": [
       "'c:\\\\projects\\\\note_stealer\\\\note_stealer\\\\videos\\\\sovietguitar_sample.mp4'"
      ]
     },
     "execution_count": 2,
     "metadata": {},
     "output_type": "execute_result"
    }
   ],
   "source": [
    "url = 'https://www.youtube.com/watch?v=Ou8zCdy49LE'\n",
    "filename_video = 'sovietguitar_sample.mp4'\n",
    "yt = YouTube(url)\n",
    "video_path = Path('videos')\n",
    "if not os.path.exists: os.makedirs(video_path)\n",
    "# progressive - True (delete)\n",
    "yt.streams.filter(progressive=True, file_extension='mp4').order_by(\n",
    "        'resolution').desc().first().download(output_path=video_path, filename=filename_video)"
   ]
  },
  {
   "cell_type": "markdown",
   "metadata": {},
   "source": [
    "# Покадровое считывание видео и запись в файл"
   ]
  },
  {
   "cell_type": "code",
   "execution_count": 3,
   "metadata": {},
   "outputs": [],
   "source": [
    "path_images = Path('images/sovietguitar')\n",
    "if not os.path.exists(path_images): os.makedirs(path_images)\n",
    "vidcap = cv2.VideoCapture(str(video_path / filename_video))\n",
    "success,image = vidcap.read()\n",
    "count = 0\n",
    "while success:\n",
    "    cv2.imwrite(str(path_images / (\"frame%d.jpg\" % count)), image)     # save frame as JPEG file      \n",
    "    success, image = vidcap.read()\n",
    "    count += 1"
   ]
  },
  {
   "cell_type": "markdown",
   "metadata": {},
   "source": [
    "# Определение координат для видео формата SkyGuitar\n"
   ]
  },
  {
   "cell_type": "code",
   "execution_count": 4,
   "metadata": {},
   "outputs": [],
   "source": [
    "notes_start_frame = 264\n",
    "notes_end_frame = 5345"
   ]
  },
  {
   "cell_type": "code",
   "execution_count": 5,
   "metadata": {},
   "outputs": [
    {
     "name": "stdout",
     "output_type": "stream",
     "text": [
      "1   489\n",
      "1278   718\n"
     ]
    }
   ],
   "source": [
    "# reading the image \n",
    "img = cv2.imread(str(path_images / f'frame{notes_start_frame}.jpg'), 1) \n",
    "\n",
    "# function to display the coordinates of \n",
    "# of the points clicked on the image  \n",
    "def click_event(event, x, y, flags, params): \n",
    "    # checking for left mouse clicks \n",
    "    if event == cv2.EVENT_LBUTTONDOWN: \n",
    "        # displaying the coordinates \n",
    "        # on the Shell \n",
    "        print(x, ' ', y) \n",
    "        # displaying the coordinates \n",
    "        # on the image window \n",
    "        font = cv2.FONT_HERSHEY_SIMPLEX \n",
    "        cv2.putText(img, str(x) + ',' +\n",
    "                    str(y), (x,y), font, \n",
    "                    1, (255, 0, 0), 2) \n",
    "        cv2.imshow('image', img) \n",
    "    # checking for right mouse clicks      \n",
    "    if event==cv2.EVENT_RBUTTONDOWN: \n",
    "        # displaying the coordinates \n",
    "        # on the Shell \n",
    "        print(x, ' ', y) \n",
    "        # displaying the coordinates \n",
    "        # on the image window \n",
    "        font = cv2.FONT_HERSHEY_SIMPLEX \n",
    "        b = img[y, x, 0] \n",
    "        g = img[y, x, 1] \n",
    "        r = img[y, x, 2] \n",
    "        cv2.putText(img, str(b) + ',' +\n",
    "                    str(g) + ',' + str(r), \n",
    "                    (x,y), font, 1, \n",
    "                    (255, 255, 0), 2) \n",
    "        cv2.imshow('image', img) \n",
    "\n",
    "\n",
    "\n",
    "# displaying the image \n",
    "cv2.imshow('image', img) \n",
    "\n",
    "# setting mouse handler for the image \n",
    "# and calling the click_event() function \n",
    "cv2.setMouseCallback('image', click_event) \n",
    "\n",
    "# wait for a key to be pressed to exit \n",
    "cv2.waitKey(0) \n",
    "\n",
    "# close the window \n",
    "cv2.destroyAllWindows() "
   ]
  },
  {
   "cell_type": "code",
   "execution_count": 6,
   "metadata": {},
   "outputs": [],
   "source": [
    "x1, y1, x2, y2 = 0, 490, 1280, 720"
   ]
  },
  {
   "cell_type": "markdown",
   "metadata": {},
   "source": [
    "# Определение порога для отсечения дубликатов"
   ]
  },
  {
   "cell_type": "code",
   "execution_count": 7,
   "metadata": {},
   "outputs": [],
   "source": [
    "def phash(image: Image.Image, hash_size: int=8) -> str:\n",
    "    return str(\n",
    "        hashlib.sha256(\n",
    "            bytearray(\n",
    "                imagehash.phash(\n",
    "                    image, hash_size=hash_size\n",
    "                ).hash.flatten().astype(int).tolist())\n",
    "            ).hexdigest())"
   ]
  },
  {
   "cell_type": "code",
   "execution_count": 8,
   "metadata": {},
   "outputs": [],
   "source": [
    "df_hash = pd.DataFrame({\n",
    "    'filename': [path_images / x for x in os.listdir(path_images)]\n",
    "})"
   ]
  },
  {
   "cell_type": "code",
   "execution_count": 9,
   "metadata": {},
   "outputs": [
    {
     "name": "stderr",
     "output_type": "stream",
     "text": [
      "100%|██████████| 5/5 [04:36<00:00, 55.30s/it]\n"
     ]
    }
   ],
   "source": [
    "nuniques = []\n",
    "for i in tqdm(range(2, 7)):\n",
    "    phashes = []\n",
    "    for filename in df_hash['filename']:\n",
    "        img = Image.open(filename).crop((x1, y1, x2, y2))\n",
    "        img = ImageOps.grayscale(img)\n",
    "        phashes.append(phash(img, i))\n",
    "    df_hash['hash'] = phashes\n",
    "    nuniques.append(df_hash['hash'].nunique())"
   ]
  },
  {
   "cell_type": "code",
   "execution_count": 10,
   "metadata": {},
   "outputs": [
    {
     "data": {
      "text/plain": [
       "[2, 10, 52, 75, 121]"
      ]
     },
     "execution_count": 10,
     "metadata": {},
     "output_type": "execute_result"
    }
   ],
   "source": [
    "nuniques"
   ]
  },
  {
   "cell_type": "code",
   "execution_count": 11,
   "metadata": {},
   "outputs": [
    {
     "data": {
      "image/png": "[encoded data removed]",
      "text/plain": [
       "<Figure size 640x480 with 1 Axes>"
      ]
     },
     "metadata": {},
     "output_type": "display_data"
    }
   ],
   "source": [
    "plt.plot(range(2, 2+len(nuniques)), nuniques, '-o')\n",
    "plt.grid()\n",
    "plt.ylabel('nunique')\n",
    "plt.xlabel('hashsize, X')\n",
    "plt.title('SHA 256 with X hashsize')\n",
    "plt.show()"
   ]
  },
  {
   "cell_type": "code",
   "execution_count": 12,
   "metadata": {},
   "outputs": [
    {
     "name": "stderr",
     "output_type": "stream",
     "text": [
      "100%|██████████| 5606/5606 [00:37<00:00, 149.70it/s]\n"
     ]
    }
   ],
   "source": [
    "i = 4\n",
    "phashes = []\n",
    "for filename in tqdm(df_hash['filename']):\n",
    "    img = Image.open(filename).crop((x1, y1, x2, y2))\n",
    "    img = ImageOps.grayscale(img)\n",
    "    phashes.append(phash(img, i))\n",
    "df_hash['hash'] = phashes"
   ]
  },
  {
   "cell_type": "markdown",
   "metadata": {},
   "source": [
    "# Формирирование обучающей выборки"
   ]
  },
  {
   "cell_type": "code",
   "execution_count": 13,
   "metadata": {},
   "outputs": [],
   "source": [
    "path_yolo_data = Path('yolo_data')\n",
    "if not os.path.exists(path_yolo_data): os.makedirs(path_yolo_data)\n",
    "path_sovietguitar_data = path_yolo_data / 'sovietguitar'\n",
    "if not os.path.exists(path_sovietguitar_data): os.makedirs(path_sovietguitar_data)\n",
    "path_sovietguitar_images = path_sovietguitar_data / 'images'\n",
    "if not os.path.exists(path_sovietguitar_images): os.makedirs(path_sovietguitar_images)\n",
    "path_sovietguitar_labels = path_sovietguitar_data / 'labels'\n",
    "if not os.path.exists(path_sovietguitar_labels): os.makedirs(path_sovietguitar_labels)"
   ]
  },
  {
   "cell_type": "code",
   "execution_count": 14,
   "metadata": {},
   "outputs": [],
   "source": [
    "def open_img(filename):\n",
    "    img = Image.open(filename).crop((x1, y1, x2, y2))\n",
    "    img = ImageOps.grayscale(img)\n",
    "    return img"
   ]
  },
  {
   "cell_type": "code",
   "execution_count": 15,
   "metadata": {},
   "outputs": [],
   "source": [
    "filenames = [str(path_images / x) for x in os.listdir(path_images)]\n",
    "df_hash = pd.DataFrame({'filename': filenames})\n",
    "hash_f = lambda x: phash(open_img(x), 4)\n",
    "vect_hash_f = np.vectorize(hash_f)\n",
    "hashes = vect_hash_f(df_hash['filename'])\n",
    "df_hash['hash'] = hashes"
   ]
  },
  {
   "cell_type": "code",
   "execution_count": 16,
   "metadata": {},
   "outputs": [
    {
     "name": "stderr",
     "output_type": "stream",
     "text": [
      "C:\\Users\\Dm\\AppData\\Local\\Temp\\ipykernel_13396\\2282458363.py:2: SettingWithCopyWarning: \n",
      "A value is trying to be set on a copy of a slice from a DataFrame.\n",
      "Try using .loc[row_indexer,col_indexer] = value instead\n",
      "\n",
      "See the caveats in the documentation: https://pandas.pydata.org/pandas-docs/stable/user_guide/indexing.html#returning-a-view-versus-a-copy\n",
      "  df_nodupl['index'] = df_nodupl['filename'].apply(\n",
      "C:\\Users\\Dm\\AppData\\Local\\Temp\\ipykernel_13396\\2282458363.py:4: SettingWithCopyWarning: \n",
      "A value is trying to be set on a copy of a slice from a DataFrame\n",
      "\n",
      "See the caveats in the documentation: https://pandas.pydata.org/pandas-docs/stable/user_guide/indexing.html#returning-a-view-versus-a-copy\n",
      "  df_nodupl.sort_values(by='index', inplace=True)\n"
     ]
    }
   ],
   "source": [
    "df_nodupl = df_hash.drop_duplicates('hash', keep='first')\n",
    "df_nodupl['index'] = df_nodupl['filename'].apply(\n",
    "    lambda x: str(x).split('.')[0].replace(r'images\\sovietguitar\\frame', '')).astype(int)\n",
    "df_nodupl.sort_values(by='index', inplace=True)"
   ]
  },
  {
   "cell_type": "code",
   "execution_count": 17,
   "metadata": {},
   "outputs": [
    {
     "data": {
      "text/plain": [
       "(36, 3)"
      ]
     },
     "execution_count": 17,
     "metadata": {},
     "output_type": "execute_result"
    }
   ],
   "source": [
    "# ноты\n",
    "df_notes = df_nodupl.loc[\n",
    "    (df_nodupl['index']>=notes_start_frame) &\n",
    "    (df_nodupl['index']<=notes_end_frame)\n",
    "]\n",
    "df_notes.shape"
   ]
  },
  {
   "cell_type": "code",
   "execution_count": 18,
   "metadata": {},
   "outputs": [
    {
     "name": "stderr",
     "output_type": "stream",
     "text": [
      "C:\\Users\\Dm\\AppData\\Local\\Temp\\ipykernel_13396\\1676882024.py:1: SettingWithCopyWarning: \n",
      "A value is trying to be set on a copy of a slice from a DataFrame.\n",
      "Try using .loc[row_indexer,col_indexer] = value instead\n",
      "\n",
      "See the caveats in the documentation: https://pandas.pydata.org/pandas-docs/stable/user_guide/indexing.html#returning-a-view-versus-a-copy\n",
      "  df_notes['short_filename'] = df_notes['filename'].apply(lambda x: str(x).split(\"\\\\\")[-1].replace('.jpg', ''))\n"
     ]
    }
   ],
   "source": [
    "df_notes['short_filename'] = df_notes['filename'].apply(lambda x: str(x).split(\"\\\\\")[-1].replace('.jpg', ''))"
   ]
  },
  {
   "cell_type": "code",
   "execution_count": 19,
   "metadata": {},
   "outputs": [],
   "source": [
    "img = Image.open(df_notes['filename'].iloc[0])\n",
    "w, h = img.size"
   ]
  },
  {
   "cell_type": "code",
   "execution_count": 21,
   "metadata": {},
   "outputs": [],
   "source": [
    "x_yolo = ((x2+x1) / 2) / w\n",
    "y_yolo = ((y2+y1) / 2) / h\n",
    "w_yolo = (x2-x1) / w\n",
    "h_yolo = (y2-y1) / h"
   ]
  },
  {
   "cell_type": "code",
   "execution_count": 22,
   "metadata": {},
   "outputs": [],
   "source": [
    "str_yolo = ' '.join([str(x) for x in [0, x_yolo, y_yolo, w_yolo, h_yolo]])"
   ]
  },
  {
   "cell_type": "code",
   "execution_count": 23,
   "metadata": {},
   "outputs": [
    {
     "name": "stderr",
     "output_type": "stream",
     "text": [
      "36it [00:00, 1187.49it/s]\n"
     ]
    }
   ],
   "source": [
    "for row in tqdm(df_notes.iterrows()):\n",
    "    row = row[1]\n",
    "    filename = row['filename']\n",
    "    short_filename = row['short_filename']\n",
    "    shutil.copy(filename, path_sovietguitar_images)\n",
    "    with open(path_sovietguitar_labels / (short_filename + '.txt'), 'w') as file:\n",
    "        file.write(str_yolo)"
   ]
  },
  {
   "cell_type": "code",
   "execution_count": 24,
   "metadata": {},
   "outputs": [],
   "source": [
    "# антиклассы\n",
    "df_hash['index'] = df_hash['filename'].apply(\n",
    "    lambda x: x.split('.')[0].replace(r'images\\sovietguitar\\frame', '')).astype(int)\n",
    "df_hash.sort_values(by='index', inplace=True)"
   ]
  },
  {
   "cell_type": "code",
   "execution_count": 25,
   "metadata": {},
   "outputs": [],
   "source": [
    "df_hash['short_filename'] = df_hash['filename'].apply(lambda x: x.split('\\\\')[-1].split('.')[0])"
   ]
  },
  {
   "cell_type": "code",
   "execution_count": 26,
   "metadata": {},
   "outputs": [],
   "source": [
    "for row in df_hash.loc[df_hash['index']<notes_start_frame].iterrows():\n",
    "    row = row[1]\n",
    "    filename = row['filename']\n",
    "    short_filename = row['short_filename']\n",
    "    shutil.copy(row['filename'], path_sovietguitar_images)\n",
    "    with open(path_sovietguitar_labels / (short_filename + '.txt'), 'w') as file:\n",
    "        file.write('')"
   ]
  }
 ],
 "metadata": {
  "kernelspec": {
   "display_name": "Python 3",
   "language": "python",
   "name": "python3"
  },
  "language_info": {
   "codemirror_mode": {
    "name": "ipython",
    "version": 3
   },
   "file_extension": ".py",
   "mimetype": "text/x-python",
   "name": "python",
   "nbconvert_exporter": "python",
   "pygments_lexer": "ipython3",
   "version": "3.11.7"
  }
 },
 "nbformat": 4,
 "nbformat_minor": 2
}
